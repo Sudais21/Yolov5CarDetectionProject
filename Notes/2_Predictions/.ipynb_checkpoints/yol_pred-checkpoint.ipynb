{
 "cells": [
  {
   "cell_type": "code",
   "execution_count": 1,
   "id": "5eb9f5d4-f2d1-48da-9811-f856d44eeadb",
   "metadata": {},
   "outputs": [
    {
     "name": "stdout",
     "output_type": "stream",
     "text": [
      "Requirement already satisfied: PyYAML in d:\\yolo_object_detection\\notes\\yolo_venv\\lib\\site-packages (6.0.1)"
     ]
    },
    {
     "name": "stderr",
     "output_type": "stream",
     "text": [
      "\n",
      "[notice] A new release of pip is available: 24.0 -> 24.2\n",
      "[notice] To update, run: python.exe -m pip install --upgrade pip\n"
     ]
    },
    {
     "name": "stdout",
     "output_type": "stream",
     "text": [
      "\n"
     ]
    }
   ],
   "source": [
    "#!pip install PyYAML"
   ]
  },
  {
   "cell_type": "code",
   "execution_count": 2,
   "id": "5d19e2da-39d0-4a05-868d-c57c7db930a1",
   "metadata": {},
   "outputs": [],
   "source": [
    "import cv2\n",
    "import numpy as np\n",
    "import os\n",
    "import yaml\n",
    "from yaml.loader import SafeLoader"
   ]
  },
  {
   "cell_type": "code",
   "execution_count": 9,
   "id": "9f44c6e1-1130-4bbc-ba8c-0840771a681b",
   "metadata": {},
   "outputs": [
    {
     "name": "stdout",
     "output_type": "stream",
     "text": [
      "['car']\n"
     ]
    }
   ],
   "source": [
    "# Load YAML\n",
    "with open('data.yaml',mode='r') as f:\n",
    "    data_yaml =yaml.load(f,Loader=SafeLoader)\n",
    "\n",
    "labels= data_yaml['names']\n",
    "print(labels)"
   ]
  },
  {
   "cell_type": "code",
   "execution_count": 12,
   "id": "0466f094-2263-464d-b788-e4954ff28efd",
   "metadata": {},
   "outputs": [],
   "source": [
    "# Load YOLO Model\n",
    "yolo= cv2.dnn.readNetFromONNX('./Model/weights/best.onnx')\n",
    "yolo.setPreferableBackend(cv2.dnn.DNN_BACKEND_OPENCV)\n",
    "yolo.setPreferableTarget(cv2.dnn.DNN_TARGET_CPU)"
   ]
  },
  {
   "cell_type": "code",
   "execution_count": 15,
   "id": "bea00f01-3d4f-4321-9fb6-b0cc91a7050d",
   "metadata": {},
   "outputs": [],
   "source": [
    "# Load the Image\n",
    "img= cv2.imread('./cars.jpg')\n",
    "image= img.copy()\n",
    "row, col, d = image.shape\n",
    "\n",
    "\n",
    "# get the YOLO prediction from the image\n",
    "# step 1 convert image into square image (array)\n",
    "max_rc = max(row,col)\n",
    "input_image= np.zeros((max_rc,max_rc,3),dtype=np.uint8)\n",
    "input_image[0:row,0:col]= image\n",
    "# get prediction from square array\n",
    "INPUT_WH_YOLO= 640\n",
    "blob = cv2.dnn.blobFromImage(input_image,1/255,(INPUT_WH_YOLO,INPUT_WH_YOLO),swapRB=True,crop=False)\n",
    "yolo.setInput(blob)\n",
    "preds= yolo.forward() # detection or prediction from YOLO"
   ]
  },
  {
   "cell_type": "code",
   "execution_count": 17,
   "id": "a22507d9-3693-4687-ad5c-99a6871be502",
   "metadata": {},
   "outputs": [
    {
     "name": "stdout",
     "output_type": "stream",
     "text": [
      "(1, 25200, 6)\n"
     ]
    }
   ],
   "source": [
    "print(preds.shape)"
   ]
  },
  {
   "cell_type": "code",
   "execution_count": 23,
   "id": "ef550a36-e5ec-434c-bece-b2555913ae43",
   "metadata": {},
   "outputs": [],
   "source": [
    "# Non Maximum Supression\n",
    "# steps 1: filter detection based on confidence (0.4) and probability score (0.25)\n",
    "detections=preds[0]\n",
    "boxes=[]\n",
    "confidences=[]\n",
    "classes=[]\n",
    "\n",
    "\n",
    "# width and height of the image (input_image)\n",
    "image_w ,image_h= input_image.shape[:2]\n",
    "x_factor= image_w/INPUT_WH_YOLO\n",
    "y_factor= image_h/INPUT_WH_YOLO\n",
    "\n",
    "for i in range (len(detections)):\n",
    "    row= detections[i]\n",
    "    confidence=row[4] # confidence of detection an object\n",
    "    if confidence > 0.4:\n",
    "        class_score= row[5:].max() # maximum probability from object\n",
    "        class_id= row[5:].argmax() # get the index position at which max probability occur\n",
    "\n",
    "        if class_score> 0.25:\n",
    "            cx,cy,w,h= row[0:4]\n",
    "            # construct bounding from four values\n",
    "            # left, top, width and height\n",
    "            left= int((cx-0.5*w)*x_factor)\n",
    "            top= int((cy-0.5*h)*y_factor)\n",
    "            width= int(w*x_factor)\n",
    "            height= int(h*y_factor)\n",
    "\n",
    "            box= np.array([left,top,width,height])\n",
    "\n",
    "            # append values into the list\n",
    "            confidences.append(confidence)\n",
    "            boxes.append(box)\n",
    "            classes.append(class_id)\n",
    "\n",
    "#clean \n",
    "boxes_np= np.array(boxes).tolist()\n",
    "confidences_np =np.array(confidences).tolist()\n",
    "\n",
    "#NMS\n",
    "index= cv2.dnn.NMSBoxes(boxes_np,confidences_np,0.25,0.45).flatten()\n"
   ]
  },
  {
   "cell_type": "code",
   "execution_count": 25,
   "id": "f663918c-6771-4772-a245-1d95442ed6fb",
   "metadata": {},
   "outputs": [
    {
     "data": {
      "text/plain": [
       "array([7, 4, 2], dtype=int32)"
      ]
     },
     "execution_count": 25,
     "metadata": {},
     "output_type": "execute_result"
    }
   ],
   "source": [
    "index"
   ]
  },
  {
   "cell_type": "code",
   "execution_count": 26,
   "id": "16d7d4f2-bdb5-4756-a0b4-41f1e05a9973",
   "metadata": {},
   "outputs": [],
   "source": [
    "# Draw the Bounding\n",
    "for ind in index:\n",
    "    #extract bounding box\n",
    "    x,y,w,h= boxes_np[ind]\n",
    "    bb_conf= int(confidences_np[ind]*100)\n",
    "    classes_id= classes[ind]\n",
    "    class_name= labels[classes_id]\n",
    "\n",
    "    text=f'{class_name}: {bb_conf}%'\n",
    "\n",
    "    cv2.rectangle(image,(x,y),(x+w,y+h),(0,255,0),2)\n",
    "    cv2.rectangle(image,(x,y-30),(x+w,y),(255,255,255),-1)\n",
    "\n",
    "    cv2.putText(image,text,(x,y-10),cv2.FONT_HERSHEY_PLAIN,0.7,(0,0,0),1)\n",
    "    "
   ]
  },
  {
   "cell_type": "code",
   "execution_count": 27,
   "id": "a08f1a82-5533-4dee-9bcf-dc8b2e12ed39",
   "metadata": {},
   "outputs": [
    {
     "data": {
      "text/plain": [
       "<function destroyAllWindows>"
      ]
     },
     "execution_count": 27,
     "metadata": {},
     "output_type": "execute_result"
    }
   ],
   "source": [
    "cv2.imshow('original',img)\n",
    "cv2.imshow('yolo_predicition',image)\n",
    "cv2.waitKey(0)\n",
    "cv2.destroyAllWindows"
   ]
  },
  {
   "cell_type": "code",
   "execution_count": null,
   "id": "82f451dd-a9f3-498b-a77a-139087642e8d",
   "metadata": {},
   "outputs": [],
   "source": []
  }
 ],
 "metadata": {
  "kernelspec": {
   "display_name": "Python 3 (ipykernel)",
   "language": "python",
   "name": "python3"
  },
  "language_info": {
   "codemirror_mode": {
    "name": "ipython",
    "version": 3
   },
   "file_extension": ".py",
   "mimetype": "text/x-python",
   "name": "python",
   "nbconvert_exporter": "python",
   "pygments_lexer": "ipython3",
   "version": "3.12.4"
  }
 },
 "nbformat": 4,
 "nbformat_minor": 5
}
