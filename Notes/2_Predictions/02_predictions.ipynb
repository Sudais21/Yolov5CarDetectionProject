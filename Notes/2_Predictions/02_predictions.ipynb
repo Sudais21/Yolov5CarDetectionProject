{
 "cells": [
  {
   "cell_type": "code",
   "execution_count": 67,
   "id": "2a090bd9-2f5a-4499-a3cf-91ebb5b7ead5",
   "metadata": {},
   "outputs": [],
   "source": [
    "import cv2\n"
   ]
  },
  {
   "cell_type": "code",
   "execution_count": 68,
   "id": "408ded24-7f8d-4b7c-bf07-dcd397b02f0e",
   "metadata": {},
   "outputs": [],
   "source": [
    "import importlib\n",
    "import yolo_predictions\n",
    "importlib.reload(yolo_predictions)\n",
    "\n",
    "# Import the YOLO_Pred class\n",
    "from yolo_predictions import YOLO_Pred"
   ]
  },
  {
   "cell_type": "code",
   "execution_count": 69,
   "id": "84ddf90b-91c6-4558-891f-10f8e882adec",
   "metadata": {},
   "outputs": [],
   "source": [
    "yolo= YOLO_Pred('./Model/weights/best.onnx','data.yaml')"
   ]
  },
  {
   "cell_type": "code",
   "execution_count": 70,
   "id": "c3e612a8-fe30-4479-b52d-d4a014b91cbf",
   "metadata": {},
   "outputs": [],
   "source": [
    "img = cv2.imread('./cars.jpg')\n",
    "\n",
    "cv2.imshow('img',img)\n",
    "cv2.waitKey(0)\n",
    "cv2.destroyAllWindows()"
   ]
  },
  {
   "cell_type": "code",
   "execution_count": 71,
   "id": "5ebea738-8911-433e-bf43-16b8ac243ec3",
   "metadata": {},
   "outputs": [],
   "source": [
    "# predictions\n",
    "img_pred= yolo.predictions(img)"
   ]
  },
  {
   "cell_type": "code",
   "execution_count": 72,
   "id": "d486d521-cdf7-40b3-a7bf-037a2b561baa",
   "metadata": {},
   "outputs": [],
   "source": [
    "cv2.imshow('prediction image',img_pred)\n",
    "cv2.waitKey(0)\n",
    "cv2.destroyAllWindows()"
   ]
  },
  {
   "cell_type": "markdown",
   "id": "b8d93beb-13c2-4669-ba11-67c13bd1f8bf",
   "metadata": {},
   "source": [
    "# Real Time Object Detection"
   ]
  },
  {
   "cell_type": "code",
   "execution_count": 75,
   "id": "254ef1fb-49e3-484b-9a30-5efcb5671a33",
   "metadata": {},
   "outputs": [
    {
     "name": "stdout",
     "output_type": "stream",
     "text": [
      "unable to read video\n"
     ]
    }
   ],
   "source": [
    "cap = cv2.VideoCapture('video.mp4')\n",
    "\n",
    "\n",
    "while True:\n",
    "    ret, frame = cap.read()\n",
    "    if ret == False:\n",
    "        print('unable to read video')\n",
    "        break\n",
    "        \n",
    "    pred_image = yolo.predictions(frame)\n",
    "    \n",
    "    cv2.imshow('YOLO',pred_image)\n",
    "    if cv2.waitKey(1) == 27:\n",
    "        break\n",
    "        \n",
    "cv2.destroyAllWindows()\n",
    "cap.release()"
   ]
  },
  {
   "cell_type": "code",
   "execution_count": null,
   "id": "ddde6e43-8419-4f53-ab8c-1adea50d6f44",
   "metadata": {},
   "outputs": [],
   "source": []
  }
 ],
 "metadata": {
  "kernelspec": {
   "display_name": "Python 3 (ipykernel)",
   "language": "python",
   "name": "python3"
  },
  "language_info": {
   "codemirror_mode": {
    "name": "ipython",
    "version": 3
   },
   "file_extension": ".py",
   "mimetype": "text/x-python",
   "name": "python",
   "nbconvert_exporter": "python",
   "pygments_lexer": "ipython3",
   "version": "3.12.4"
  }
 },
 "nbformat": 4,
 "nbformat_minor": 5
}
